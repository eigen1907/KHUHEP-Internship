{
 "cells": [
  {
   "cell_type": "code",
   "execution_count": 1,
   "metadata": {},
   "outputs": [
    {
     "name": "stdout",
     "output_type": "stream",
     "text": [
      "1번 튕김, h = 60.0\n",
      "2번 튕김, h = 36.0\n",
      "3번 튕김, h = 21.6\n",
      "4번 튕김, h = 12.96\n",
      "5번 튕김, h = 7.776\n",
      "6번 튕김, h = 4.6656\n",
      "7번 튕김, h = 2.7994\n",
      "8번 튕김, h = 1.6796\n",
      "9번 튕김, h = 1.0078\n",
      "10번 튕김, h = 0.6047\n"
     ]
    }
   ],
   "source": [
    "h = 100\n",
    "n = 0\n",
    "while n < 10:\n",
    "    h = h * 3 / 5\n",
    "    n += 1\n",
    "    print(f'{n}번 튕김, h = {round(h, 4)}')\n"
   ]
  }
 ],
 "metadata": {
  "kernelspec": {
   "display_name": "root-py39",
   "language": "python",
   "name": "python3"
  },
  "language_info": {
   "codemirror_mode": {
    "name": "ipython",
    "version": 3
   },
   "file_extension": ".py",
   "mimetype": "text/x-python",
   "name": "python",
   "nbconvert_exporter": "python",
   "pygments_lexer": "ipython3",
   "version": "3.9.21"
  }
 },
 "nbformat": 4,
 "nbformat_minor": 2
}
